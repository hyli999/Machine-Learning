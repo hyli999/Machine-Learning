{
 "cells": [
  {
   "cell_type": "code",
   "execution_count": 1,
   "id": "b03a8821",
   "metadata": {},
   "outputs": [],
   "source": [
    "import pandas as pd\n",
    "import numpy as np\n",
    "import matplotlib.pyplot as plt\n",
    "%matplotlib inline\n",
    "from sklearn.metrics import accuracy_score, confusion_matrix\n",
    "from sklearn.tree import DecisionTreeClassifier\n",
    "from sklearn.ensemble import BaggingClassifier\n",
    "pd.set_option('use_inf_as_na', True)\n",
    "from collections import Counter"
   ]
  },
  {
   "cell_type": "code",
   "execution_count": 2,
   "id": "ac75d453",
   "metadata": {},
   "outputs": [],
   "source": [
    "raw_data = pd.read_pickle('/Users/hongyuli/Documents/UChi/Winter_2022/FINM33160 ML/Lecture2, 2022/dataset.pkl')"
   ]
  },
  {
   "cell_type": "code",
   "execution_count": 3,
   "id": "fb434800",
   "metadata": {},
   "outputs": [],
   "source": [
    "data = raw_data.copy()\n",
    "data.fillna(0.0,inplace=True)"
   ]
  },
  {
   "cell_type": "markdown",
   "id": "22a85a33",
   "metadata": {},
   "source": [
    "# Functions to Use"
   ]
  },
  {
   "cell_type": "code",
   "execution_count": 4,
   "id": "2f12909b",
   "metadata": {},
   "outputs": [],
   "source": [
    "def baggingtree_profit_importance(m, df,rets):\n",
    "    return pd.DataFrame({'cols':df.columns, 'pi_imp':profit_importance(m,df,rets)}\n",
    "                       ).sort_values('pi_imp', ascending=True)"
   ]
  },
  {
   "cell_type": "code",
   "execution_count": 5,
   "id": "aad56a38",
   "metadata": {},
   "outputs": [],
   "source": [
    "def baggingtree_feat_importance(m, df):\n",
    "    feature_importances = []\n",
    "    for est in m.estimators_:\n",
    "        fi = est.feature_importances_\n",
    "        feature_importances.append(fi)\n",
    "    feature_importances = np.array(feature_importances)\n",
    "        \n",
    "    return pd.DataFrame({'cols':df.columns, 'feat_imp':np.mean(feature_importances,axis=0)}\n",
    "                       ).sort_values('feat_imp', ascending=False)\n",
    "\n",
    "def plot_fi(fi): return fi.plot('cols', 'feat_imp', 'barh', figsize=(12,7), legend=False)"
   ]
  },
  {
   "cell_type": "code",
   "execution_count": 6,
   "id": "4c412750",
   "metadata": {},
   "outputs": [],
   "source": [
    "def profit_importance(t,df,rets):\n",
    "#     np.random.seed(123)\n",
    "    profit = []\n",
    "    for col in df.columns:\n",
    "        prof = []\n",
    "        for _ in range(20):\n",
    "            X = df.copy()\n",
    "            X[col] = np.random.permutation(df[col].values)\n",
    "            prediction = t.predict(X)\n",
    "            prof.append((prediction * rets).sum())\n",
    "        profit.append(np.mean(prof))\n",
    "    return profit"
   ]
  },
  {
   "cell_type": "markdown",
   "id": "1b490f6c",
   "metadata": {},
   "source": [
    "# Problem 2"
   ]
  },
  {
   "cell_type": "markdown",
   "id": "7a6eeec4",
   "metadata": {},
   "source": [
    "1. Insert a column in the data set with entries: 2 if the stock return is more then 5% higher than the SPY return, 1 if it is more than 1% but less than 5% higher, 0 if it is between -1% and 1%, -2 if the stock underperforms the SPY by more than -5% and -1 if the performance is between -1% and -5%"
   ]
  },
  {
   "cell_type": "code",
   "execution_count": 7,
   "id": "5d2c4c40",
   "metadata": {},
   "outputs": [],
   "source": [
    "def f(x):\n",
    "    if x > .05:\n",
    "        return 2\n",
    "    elif .01<x<=.05:\n",
    "        return 1\n",
    "    elif -.01<=x<=.01:\n",
    "        return 0\n",
    "    elif x<-.05:\n",
    "        return -2\n",
    "    else:\n",
    "        return -1"
   ]
  },
  {
   "cell_type": "code",
   "execution_count": 8,
   "id": "341ab26f",
   "metadata": {},
   "outputs": [],
   "source": [
    "data['rel_performance'] = data['pred_rel_return'].apply(f)"
   ]
  },
  {
   "cell_type": "code",
   "execution_count": 9,
   "id": "dc105a77",
   "metadata": {},
   "outputs": [
    {
     "data": {
      "text/plain": [
       "date        ticker\n",
       "2000-02-01  LLB      -2\n",
       "2000-02-03  MYR       2\n",
       "2000-02-08  LZB       2\n",
       "            SJM       2\n",
       "2000-02-09  CSCO     -1\n",
       "                     ..\n",
       "2018-12-31  ELLO      0\n",
       "            MFCB      0\n",
       "            MFCB      0\n",
       "            PETZ      0\n",
       "            SGOC      0\n",
       "Name: rel_performance, Length: 294412, dtype: int64"
      ]
     },
     "execution_count": 9,
     "metadata": {},
     "output_type": "execute_result"
    }
   ],
   "source": [
    "data['rel_performance']"
   ]
  },
  {
   "cell_type": "code",
   "execution_count": 10,
   "id": "f12b588c",
   "metadata": {},
   "outputs": [],
   "source": [
    "data.reset_index(inplace=True,)\n",
    "data.set_index('date',inplace=True)"
   ]
  },
  {
   "cell_type": "code",
   "execution_count": 11,
   "id": "5aa4aa49",
   "metadata": {},
   "outputs": [
    {
     "data": {
      "text/html": [
       "<div>\n",
       "<style scoped>\n",
       "    .dataframe tbody tr th:only-of-type {\n",
       "        vertical-align: middle;\n",
       "    }\n",
       "\n",
       "    .dataframe tbody tr th {\n",
       "        vertical-align: top;\n",
       "    }\n",
       "\n",
       "    .dataframe thead th {\n",
       "        text-align: right;\n",
       "    }\n",
       "</style>\n",
       "<table border=\"1\" class=\"dataframe\">\n",
       "  <thead>\n",
       "    <tr style=\"text-align: right;\">\n",
       "      <th></th>\n",
       "      <th>ticker</th>\n",
       "      <th>actq</th>\n",
       "      <th>apq</th>\n",
       "      <th>atq</th>\n",
       "      <th>ceqq</th>\n",
       "      <th>cheq</th>\n",
       "      <th>cogsq</th>\n",
       "      <th>csh12q</th>\n",
       "      <th>cshfdq</th>\n",
       "      <th>cshiq</th>\n",
       "      <th>...</th>\n",
       "      <th>sector_code_817.0</th>\n",
       "      <th>sector_code_822.0</th>\n",
       "      <th>sector_code_823.0</th>\n",
       "      <th>sector_code_825.0</th>\n",
       "      <th>sector_code_830.0</th>\n",
       "      <th>sector_code_835.0</th>\n",
       "      <th>sector_code_840.0</th>\n",
       "      <th>sector_code_845.0</th>\n",
       "      <th>sector_code_850.0</th>\n",
       "      <th>rel_performance</th>\n",
       "    </tr>\n",
       "    <tr>\n",
       "      <th>date</th>\n",
       "      <th></th>\n",
       "      <th></th>\n",
       "      <th></th>\n",
       "      <th></th>\n",
       "      <th></th>\n",
       "      <th></th>\n",
       "      <th></th>\n",
       "      <th></th>\n",
       "      <th></th>\n",
       "      <th></th>\n",
       "      <th></th>\n",
       "      <th></th>\n",
       "      <th></th>\n",
       "      <th></th>\n",
       "      <th></th>\n",
       "      <th></th>\n",
       "      <th></th>\n",
       "      <th></th>\n",
       "      <th></th>\n",
       "      <th></th>\n",
       "      <th></th>\n",
       "    </tr>\n",
       "  </thead>\n",
       "  <tbody>\n",
       "    <tr>\n",
       "      <th>2000-02-01</th>\n",
       "      <td>LLB</td>\n",
       "      <td>3.540</td>\n",
       "      <td>0.143</td>\n",
       "      <td>7.668</td>\n",
       "      <td>6.732</td>\n",
       "      <td>2.553</td>\n",
       "      <td>0.458</td>\n",
       "      <td>6.3910</td>\n",
       "      <td>6.391</td>\n",
       "      <td>6.989</td>\n",
       "      <td>...</td>\n",
       "      <td>0</td>\n",
       "      <td>0</td>\n",
       "      <td>0</td>\n",
       "      <td>0</td>\n",
       "      <td>0</td>\n",
       "      <td>0</td>\n",
       "      <td>0</td>\n",
       "      <td>0</td>\n",
       "      <td>0</td>\n",
       "      <td>-2</td>\n",
       "    </tr>\n",
       "    <tr>\n",
       "      <th>2000-02-03</th>\n",
       "      <td>MYR</td>\n",
       "      <td>107.661</td>\n",
       "      <td>24.387</td>\n",
       "      <td>220.463</td>\n",
       "      <td>136.555</td>\n",
       "      <td>1.049</td>\n",
       "      <td>36.883</td>\n",
       "      <td>25.5360</td>\n",
       "      <td>22.082</td>\n",
       "      <td>28.458</td>\n",
       "      <td>...</td>\n",
       "      <td>0</td>\n",
       "      <td>0</td>\n",
       "      <td>0</td>\n",
       "      <td>0</td>\n",
       "      <td>0</td>\n",
       "      <td>0</td>\n",
       "      <td>0</td>\n",
       "      <td>0</td>\n",
       "      <td>0</td>\n",
       "      <td>2</td>\n",
       "    </tr>\n",
       "    <tr>\n",
       "      <th>2000-02-08</th>\n",
       "      <td>LZB</td>\n",
       "      <td>447.719</td>\n",
       "      <td>57.893</td>\n",
       "      <td>740.905</td>\n",
       "      <td>460.612</td>\n",
       "      <td>16.531</td>\n",
       "      <td>274.525</td>\n",
       "      <td>52.2660</td>\n",
       "      <td>52.274</td>\n",
       "      <td>52.544</td>\n",
       "      <td>...</td>\n",
       "      <td>0</td>\n",
       "      <td>0</td>\n",
       "      <td>0</td>\n",
       "      <td>0</td>\n",
       "      <td>0</td>\n",
       "      <td>0</td>\n",
       "      <td>0</td>\n",
       "      <td>0</td>\n",
       "      <td>0</td>\n",
       "      <td>2</td>\n",
       "    </tr>\n",
       "    <tr>\n",
       "      <th>2000-02-08</th>\n",
       "      <td>SJM</td>\n",
       "      <td>234.415</td>\n",
       "      <td>33.821</td>\n",
       "      <td>488.136</td>\n",
       "      <td>322.432</td>\n",
       "      <td>26.054</td>\n",
       "      <td>91.172</td>\n",
       "      <td>28.8808</td>\n",
       "      <td>28.603</td>\n",
       "      <td>32.425</td>\n",
       "      <td>...</td>\n",
       "      <td>0</td>\n",
       "      <td>0</td>\n",
       "      <td>0</td>\n",
       "      <td>0</td>\n",
       "      <td>0</td>\n",
       "      <td>0</td>\n",
       "      <td>0</td>\n",
       "      <td>0</td>\n",
       "      <td>0</td>\n",
       "      <td>2</td>\n",
       "    </tr>\n",
       "    <tr>\n",
       "      <th>2000-02-09</th>\n",
       "      <td>CSCO</td>\n",
       "      <td>7722.000</td>\n",
       "      <td>482.000</td>\n",
       "      <td>21391.000</td>\n",
       "      <td>16523.000</td>\n",
       "      <td>3968.000</td>\n",
       "      <td>1422.000</td>\n",
       "      <td>3374.1250</td>\n",
       "      <td>3648.000</td>\n",
       "      <td>3445.000</td>\n",
       "      <td>...</td>\n",
       "      <td>0</td>\n",
       "      <td>0</td>\n",
       "      <td>0</td>\n",
       "      <td>0</td>\n",
       "      <td>0</td>\n",
       "      <td>0</td>\n",
       "      <td>0</td>\n",
       "      <td>0</td>\n",
       "      <td>0</td>\n",
       "      <td>-1</td>\n",
       "    </tr>\n",
       "  </tbody>\n",
       "</table>\n",
       "<p>5 rows × 733 columns</p>\n",
       "</div>"
      ],
      "text/plain": [
       "           ticker      actq      apq        atq       ceqq      cheq  \\\n",
       "date                                                                   \n",
       "2000-02-01    LLB     3.540    0.143      7.668      6.732     2.553   \n",
       "2000-02-03    MYR   107.661   24.387    220.463    136.555     1.049   \n",
       "2000-02-08    LZB   447.719   57.893    740.905    460.612    16.531   \n",
       "2000-02-08    SJM   234.415   33.821    488.136    322.432    26.054   \n",
       "2000-02-09   CSCO  7722.000  482.000  21391.000  16523.000  3968.000   \n",
       "\n",
       "               cogsq     csh12q    cshfdq     cshiq  ...  sector_code_817.0  \\\n",
       "date                                                 ...                      \n",
       "2000-02-01     0.458     6.3910     6.391     6.989  ...                  0   \n",
       "2000-02-03    36.883    25.5360    22.082    28.458  ...                  0   \n",
       "2000-02-08   274.525    52.2660    52.274    52.544  ...                  0   \n",
       "2000-02-08    91.172    28.8808    28.603    32.425  ...                  0   \n",
       "2000-02-09  1422.000  3374.1250  3648.000  3445.000  ...                  0   \n",
       "\n",
       "            sector_code_822.0  sector_code_823.0  sector_code_825.0  \\\n",
       "date                                                                  \n",
       "2000-02-01                  0                  0                  0   \n",
       "2000-02-03                  0                  0                  0   \n",
       "2000-02-08                  0                  0                  0   \n",
       "2000-02-08                  0                  0                  0   \n",
       "2000-02-09                  0                  0                  0   \n",
       "\n",
       "            sector_code_830.0  sector_code_835.0  sector_code_840.0  \\\n",
       "date                                                                  \n",
       "2000-02-01                  0                  0                  0   \n",
       "2000-02-03                  0                  0                  0   \n",
       "2000-02-08                  0                  0                  0   \n",
       "2000-02-08                  0                  0                  0   \n",
       "2000-02-09                  0                  0                  0   \n",
       "\n",
       "            sector_code_845.0  sector_code_850.0  rel_performance  \n",
       "date                                                               \n",
       "2000-02-01                  0                  0               -2  \n",
       "2000-02-03                  0                  0                2  \n",
       "2000-02-08                  0                  0                2  \n",
       "2000-02-08                  0                  0                2  \n",
       "2000-02-09                  0                  0               -1  \n",
       "\n",
       "[5 rows x 733 columns]"
      ]
     },
     "execution_count": 11,
     "metadata": {},
     "output_type": "execute_result"
    }
   ],
   "source": [
    "data.head()"
   ]
  },
  {
   "cell_type": "markdown",
   "id": "b67979fb",
   "metadata": {},
   "source": [
    "2. Create a BaggingClassifier with a DecisionTreeClassifier with max_level = 6 and n_estimators = 40 and the new column as labels."
   ]
  },
  {
   "cell_type": "markdown",
   "id": "fa0492ae",
   "metadata": {},
   "source": [
    "3. Use the period 2007-2010 to train the model on the data set constructed above and construct a set of features that optimizes the profit of the long-short strategy on the quarter 2009-07-30 – 2009-10-30\n"
   ]
  },
  {
   "cell_type": "code",
   "execution_count": 12,
   "id": "012bd991",
   "metadata": {},
   "outputs": [],
   "source": [
    "df_1 = data.loc['2007-01-01':'2010-12-31']"
   ]
  },
  {
   "cell_type": "code",
   "execution_count": 13,
   "id": "44a48428",
   "metadata": {},
   "outputs": [],
   "source": [
    "df_valid_1 = data.loc['2009-07-30':'2009-10-30']"
   ]
  },
  {
   "cell_type": "code",
   "execution_count": 14,
   "id": "d9cc23f8",
   "metadata": {},
   "outputs": [],
   "source": [
    "train_1 = df_1.reset_index().drop(['ticker','date',\n",
    "                                   'next_period_return',\n",
    "                                   'spy_next_period_return',\n",
    "                                   'rel_performance','pred_rel_return',\n",
    "                                  'return', 'cum_ret', 'spy_cum_ret'],axis=1)"
   ]
  },
  {
   "cell_type": "code",
   "execution_count": 15,
   "id": "755588c4",
   "metadata": {},
   "outputs": [],
   "source": [
    "valid_1 = df_valid_1.reset_index().drop(['ticker','date',\n",
    "                                   'next_period_return',\n",
    "                                   'spy_next_period_return',\n",
    "                                   'rel_performance','pred_rel_return',\n",
    "                                  'return', 'cum_ret', 'spy_cum_ret'],axis=1)"
   ]
  },
  {
   "cell_type": "code",
   "execution_count": 16,
   "id": "975f4284",
   "metadata": {},
   "outputs": [],
   "source": [
    "train_1_stock_returns = df_1['next_period_return']"
   ]
  },
  {
   "cell_type": "code",
   "execution_count": 17,
   "id": "ae7c9ef2",
   "metadata": {},
   "outputs": [],
   "source": [
    "y_1 = df_1['rel_performance']\n",
    "y_valid_1 = df_valid_1['rel_performance']\n",
    "valid_1_stock_returns = df_valid_1['next_period_return']"
   ]
  },
  {
   "cell_type": "code",
   "execution_count": 18,
   "id": "cffb4918",
   "metadata": {},
   "outputs": [],
   "source": [
    "y_1 = y_1.values\n",
    "y_valid_1 = y_valid_1.values"
   ]
  },
  {
   "cell_type": "code",
   "execution_count": 19,
   "id": "99e725a4",
   "metadata": {},
   "outputs": [],
   "source": [
    "t_clf = DecisionTreeClassifier(max_depth=8,min_samples_leaf=800)"
   ]
  },
  {
   "cell_type": "code",
   "execution_count": 20,
   "id": "9551d0fb",
   "metadata": {},
   "outputs": [],
   "source": [
    "bg_clf = BaggingClassifier(t_clf,n_estimators=40,oob_score=True,random_state=123,n_jobs=1)"
   ]
  },
  {
   "cell_type": "code",
   "execution_count": 21,
   "id": "eb0bd68a",
   "metadata": {},
   "outputs": [
    {
     "data": {
      "text/plain": [
       "BaggingClassifier(base_estimator=DecisionTreeClassifier(max_depth=8,\n",
       "                                                        min_samples_leaf=800),\n",
       "                  n_estimators=40, n_jobs=1, oob_score=True, random_state=123)"
      ]
     },
     "execution_count": 21,
     "metadata": {},
     "output_type": "execute_result"
    }
   ],
   "source": [
    "bg_clf.fit(train_1,y_1)"
   ]
  },
  {
   "cell_type": "code",
   "execution_count": 22,
   "id": "1561bf9e",
   "metadata": {},
   "outputs": [],
   "source": [
    "pred_valid = bg_clf.predict(valid_1)"
   ]
  },
  {
   "cell_type": "code",
   "execution_count": 23,
   "id": "832c0f4a",
   "metadata": {},
   "outputs": [
    {
     "data": {
      "text/plain": [
       "0.43812822164948456"
      ]
     },
     "execution_count": 23,
     "metadata": {},
     "output_type": "execute_result"
    }
   ],
   "source": [
    "bg_clf.oob_score_"
   ]
  },
  {
   "cell_type": "code",
   "execution_count": 24,
   "id": "0163bf3a",
   "metadata": {},
   "outputs": [
    {
     "data": {
      "text/plain": [
       "array([[ 268,    0,    0,    0, 1192],\n",
       "       [  50,    0,    0,    0,  400],\n",
       "       [  39,    0,    0,    0,  268],\n",
       "       [  46,    0,    0,    0,  414],\n",
       "       [ 113,    0,    0,    0, 1599]])"
      ]
     },
     "execution_count": 24,
     "metadata": {},
     "output_type": "execute_result"
    }
   ],
   "source": [
    "confusion_matrix(y_valid_1,pred_valid)"
   ]
  },
  {
   "cell_type": "code",
   "execution_count": 25,
   "id": "b6240093",
   "metadata": {},
   "outputs": [],
   "source": [
    "fi = baggingtree_feat_importance(bg_clf,train_1)"
   ]
  },
  {
   "cell_type": "code",
   "execution_count": 26,
   "id": "dbd627e2",
   "metadata": {},
   "outputs": [
    {
     "data": {
      "text/html": [
       "<div>\n",
       "<style scoped>\n",
       "    .dataframe tbody tr th:only-of-type {\n",
       "        vertical-align: middle;\n",
       "    }\n",
       "\n",
       "    .dataframe tbody tr th {\n",
       "        vertical-align: top;\n",
       "    }\n",
       "\n",
       "    .dataframe thead th {\n",
       "        text-align: right;\n",
       "    }\n",
       "</style>\n",
       "<table border=\"1\" class=\"dataframe\">\n",
       "  <thead>\n",
       "    <tr style=\"text-align: right;\">\n",
       "      <th></th>\n",
       "      <th>cols</th>\n",
       "      <th>feat_imp</th>\n",
       "    </tr>\n",
       "  </thead>\n",
       "  <tbody>\n",
       "    <tr>\n",
       "      <th>87</th>\n",
       "      <td>prccq</td>\n",
       "      <td>0.122511</td>\n",
       "    </tr>\n",
       "    <tr>\n",
       "      <th>105</th>\n",
       "      <td>cf_yield</td>\n",
       "      <td>0.094302</td>\n",
       "    </tr>\n",
       "    <tr>\n",
       "      <th>89</th>\n",
       "      <td>bmq</td>\n",
       "      <td>0.090254</td>\n",
       "    </tr>\n",
       "    <tr>\n",
       "      <th>55</th>\n",
       "      <td>teqq</td>\n",
       "      <td>0.066545</td>\n",
       "    </tr>\n",
       "    <tr>\n",
       "      <th>108</th>\n",
       "      <td>dprq</td>\n",
       "      <td>0.047095</td>\n",
       "    </tr>\n",
       "    <tr>\n",
       "      <th>91</th>\n",
       "      <td>book_value_yield</td>\n",
       "      <td>0.040974</td>\n",
       "    </tr>\n",
       "    <tr>\n",
       "      <th>76</th>\n",
       "      <td>oancfy</td>\n",
       "      <td>0.034866</td>\n",
       "    </tr>\n",
       "    <tr>\n",
       "      <th>180</th>\n",
       "      <td>fqtr_2</td>\n",
       "      <td>0.030895</td>\n",
       "    </tr>\n",
       "    <tr>\n",
       "      <th>152</th>\n",
       "      <td>ocf_lctq</td>\n",
       "      <td>0.028945</td>\n",
       "    </tr>\n",
       "    <tr>\n",
       "      <th>95</th>\n",
       "      <td>evmq</td>\n",
       "      <td>0.024653</td>\n",
       "    </tr>\n",
       "  </tbody>\n",
       "</table>\n",
       "</div>"
      ],
      "text/plain": [
       "                 cols  feat_imp\n",
       "87              prccq  0.122511\n",
       "105          cf_yield  0.094302\n",
       "89                bmq  0.090254\n",
       "55               teqq  0.066545\n",
       "108              dprq  0.047095\n",
       "91   book_value_yield  0.040974\n",
       "76             oancfy  0.034866\n",
       "180            fqtr_2  0.030895\n",
       "152          ocf_lctq  0.028945\n",
       "95               evmq  0.024653"
      ]
     },
     "execution_count": 26,
     "metadata": {},
     "output_type": "execute_result"
    }
   ],
   "source": [
    "features = fi[(fi['feat_imp'] > 0.02)]\n",
    "features"
   ]
  },
  {
   "cell_type": "code",
   "execution_count": 27,
   "id": "212f7b3a",
   "metadata": {},
   "outputs": [
    {
     "data": {
      "text/plain": [
       "<AxesSubplot:ylabel='cols'>"
      ]
     },
     "execution_count": 27,
     "metadata": {},
     "output_type": "execute_result"
    },
    {
     "data": {
      "image/png": "[encoded data removed]",
      "text/plain": [
       "<Figure size 864x504 with 1 Axes>"
      ]
     },
     "metadata": {
      "needs_background": "light"
     },
     "output_type": "display_data"
    }
   ],
   "source": [
    "plot_fi(features)"
   ]
  },
  {
   "cell_type": "code",
   "execution_count": 28,
   "id": "ea840047",
   "metadata": {},
   "outputs": [
    {
     "data": {
      "text/plain": [
       "10"
      ]
     },
     "execution_count": 28,
     "metadata": {},
     "output_type": "execute_result"
    }
   ],
   "source": [
    "len(features['cols'].values)"
   ]
  },
  {
   "cell_type": "code",
   "execution_count": 29,
   "id": "054a0656",
   "metadata": {},
   "outputs": [],
   "source": [
    "train_1 = train_1[features['cols'].values]\n",
    "valid_1 = valid_1[features['cols'].values]"
   ]
  },
  {
   "cell_type": "code",
   "execution_count": 30,
   "id": "05f7bcd5",
   "metadata": {},
   "outputs": [],
   "source": [
    "# bg_clf.fit(train_1,y_1)\n",
    "# bg_clf.score(train_1,y_1)"
   ]
  },
  {
   "cell_type": "code",
   "execution_count": 31,
   "id": "d7a5d38f",
   "metadata": {},
   "outputs": [],
   "source": [
    "# pred_valid = bg_clf.predict(valid_1)\n",
    "# bg_clf.score(valid_1,y_valid_1)"
   ]
  },
  {
   "cell_type": "code",
   "execution_count": 32,
   "id": "233aef28",
   "metadata": {},
   "outputs": [],
   "source": [
    "# bg_clf.oob_score_"
   ]
  },
  {
   "cell_type": "code",
   "execution_count": 33,
   "id": "61ea6170",
   "metadata": {},
   "outputs": [],
   "source": [
    "# (pred_valid * valid_1_stock_returns).sum()"
   ]
  },
  {
   "cell_type": "code",
   "execution_count": 34,
   "id": "928595d5",
   "metadata": {},
   "outputs": [],
   "source": [
    "# %time pi = baggingtree_profit_importance(bg_clf,valid_1,df_valid_1['next_period_return'])\n",
    "# pi"
   ]
  },
  {
   "cell_type": "code",
   "execution_count": 35,
   "id": "d5a1454d",
   "metadata": {},
   "outputs": [
    {
     "name": "stdout",
     "output_type": "stream",
     "text": [
      "790.3317320000001\n",
      "797.3690880000001\n",
      "796.2551760000001\n",
      "799.088072\n",
      "730.702948\n",
      "738.3792360000001\n",
      "715.537728\n",
      "679.0744920000001\n",
      "778.0306679999999\n"
     ]
    }
   ],
   "source": [
    "profits = []\n",
    "\n",
    "feat=[]\n",
    "\n",
    "train = train_1.copy()\n",
    "validation = valid_1.copy()\n",
    "\n",
    "while len(train.columns)>1:\n",
    "    \n",
    "    bg_clf.fit(train,y_1)\n",
    "    pi = baggingtree_profit_importance(bg_clf,validation,y_valid_1)\n",
    "\n",
    "    col_to_drop = pi[pi['pi_imp'] == pi['pi_imp'].max()]['cols'].iloc[0]\n",
    "    train.drop(col_to_drop,axis=1,inplace=True)\n",
    "    validation.drop(col_to_drop,axis=1,inplace=True)\n",
    "    bg_clf.fit(train,y_1)\n",
    "    \n",
    "    fi = baggingtree_feat_importance(bg_clf,train)\n",
    "    features = fi[(fi['feat_imp'] > 0.02)]\n",
    "    train = train[features['cols'].values]\n",
    "    validation = validation[features['cols'].values]\n",
    "    bg_clf.fit(train,y_1)\n",
    "    \n",
    "    pred_valid = bg_clf.predict(validation)\n",
    "    profits.append((pred_valid * df_valid_1['next_period_return']).sum())\n",
    "    print((pred_valid * df_valid_1['next_period_return']).sum())\n",
    "    feat.append(features['cols'].values) "
   ]
  },
  {
   "cell_type": "code",
   "execution_count": 36,
   "id": "8f6052dd",
   "metadata": {},
   "outputs": [
    {
     "data": {
      "image/png": "[encoded data removed]",
      "text/plain": [
       "<Figure size 432x288 with 1 Axes>"
      ]
     },
     "metadata": {
      "needs_background": "light"
     },
     "output_type": "display_data"
    }
   ],
   "source": [
    "plt.plot(profits);"
   ]
  },
  {
   "cell_type": "code",
   "execution_count": 37,
   "id": "19577fd4",
   "metadata": {},
   "outputs": [],
   "source": [
    "n = np.argmax(profits)\n",
    "optim_feats = feat[n]\n",
    "max_profits = profits[n]"
   ]
  },
  {
   "cell_type": "code",
   "execution_count": 38,
   "id": "f003ac98",
   "metadata": {},
   "outputs": [
    {
     "name": "stdout",
     "output_type": "stream",
     "text": [
      "799.088072\n",
      "['prccq' 'book_value_yield' 'cf_yield' 'teqq' 'oancfy' 'ocf_lctq']\n"
     ]
    }
   ],
   "source": [
    "print(max_profits)\n",
    "print(optim_feats)"
   ]
  },
  {
   "cell_type": "code",
   "execution_count": null,
   "id": "8ff75b2d",
   "metadata": {},
   "outputs": [],
   "source": []
  },
  {
   "cell_type": "markdown",
   "id": "7a804309",
   "metadata": {},
   "source": [
    "4. Backtest the performance of the model with the optimal features over the period 2010 – 2018."
   ]
  },
  {
   "cell_type": "code",
   "execution_count": 39,
   "id": "6ae5f3c2",
   "metadata": {},
   "outputs": [],
   "source": [
    "df_test_1 = data.loc['2010-01-01':'2018-12-31']"
   ]
  },
  {
   "cell_type": "code",
   "execution_count": 40,
   "id": "912cd488",
   "metadata": {},
   "outputs": [],
   "source": [
    "test_1 = df_test_1.reset_index().drop(['ticker','date',\n",
    "                                   'next_period_return',\n",
    "                                   'spy_next_period_return',\n",
    "                                   'rel_performance','pred_rel_return',\n",
    "                                  'return', 'cum_ret', 'spy_cum_ret'],axis=1)"
   ]
  },
  {
   "cell_type": "code",
   "execution_count": 41,
   "id": "53f0be4a",
   "metadata": {},
   "outputs": [],
   "source": [
    "test_stock_returns = df_test_1['next_period_return']"
   ]
  },
  {
   "cell_type": "code",
   "execution_count": 42,
   "id": "dcb79a84",
   "metadata": {},
   "outputs": [
    {
     "name": "stdout",
     "output_type": "stream",
     "text": [
      "0.43374677835051545\n",
      "0.41171109592162225\n"
     ]
    },
    {
     "data": {
      "text/plain": [
       "799.088072"
      ]
     },
     "execution_count": 42,
     "metadata": {},
     "output_type": "execute_result"
    }
   ],
   "source": [
    "train_1_optim = train_1[optim_feats]\n",
    "valid_optim = valid_1[optim_feats]\n",
    "\n",
    "\n",
    "bg_clf.fit(train_1_optim,y_1)\n",
    "print(bg_clf.score(train_1_optim,y_1))\n",
    "pred_valid_tree = bg_clf.predict(valid_optim)\n",
    "print(bg_clf.score(valid_optim,y_valid_1))\n",
    "(pred_valid_tree * df_valid_1['next_period_return']).sum()"
   ]
  },
  {
   "cell_type": "code",
   "execution_count": 43,
   "id": "4f3f7c82",
   "metadata": {},
   "outputs": [
    {
     "data": {
      "text/plain": [
       "8463.868868"
      ]
     },
     "execution_count": 43,
     "metadata": {},
     "output_type": "execute_result"
    }
   ],
   "source": [
    "train_1_tree = train_1[optim_feats]\n",
    "test_tree = test_1[optim_feats]\n",
    "bg_clf.fit(train_1_tree,y_1)\n",
    "pred_test_tree = bg_clf.predict(test_tree)\n",
    "(pred_test_tree * test_stock_returns).sum()"
   ]
  },
  {
   "cell_type": "code",
   "execution_count": 44,
   "id": "f155c295",
   "metadata": {},
   "outputs": [],
   "source": [
    "from scipy.cluster import hierarchy as hc\n",
    "import scipy.stats"
   ]
  },
  {
   "cell_type": "code",
   "execution_count": 45,
   "id": "17fefe84",
   "metadata": {},
   "outputs": [],
   "source": [
    "start_dates = [pd.to_datetime('2000-01-01') + pd.DateOffset(months = 3 * i) for i in range(63)]\n",
    "end_dates = [d + pd.DateOffset(months = 36) for d in start_dates]"
   ]
  },
  {
   "cell_type": "code",
   "execution_count": 46,
   "id": "d2daa4ab",
   "metadata": {},
   "outputs": [],
   "source": [
    "training_frames = [data.loc[d:d+pd.DateOffset(months = 36)] for d in start_dates]\n",
    "test_frames = [data.loc[d + pd.DateOffset(months=3):d+pd.DateOffset(months = 6)] for d in end_dates]"
   ]
  },
  {
   "cell_type": "code",
   "execution_count": 47,
   "id": "ebb3425b",
   "metadata": {},
   "outputs": [],
   "source": [
    "training_data = [d.reset_index().drop\n",
    "                                 (['ticker','date',\n",
    "                                   'next_period_return',\n",
    "                                   'spy_next_period_return',\n",
    "                                   'rel_performance','pred_rel_return',\n",
    "                                  'return', 'cum_ret', 'spy_cum_ret'],axis=1) for d in training_frames]"
   ]
  },
  {
   "cell_type": "code",
   "execution_count": 48,
   "id": "9ef16ad1",
   "metadata": {},
   "outputs": [],
   "source": [
    "test_data = [d.reset_index().drop(['ticker','date',\n",
    "                                   'next_period_return',\n",
    "                                   'spy_next_period_return',\n",
    "                                   'rel_performance','pred_rel_return',\n",
    "                                  'return', 'cum_ret', 'spy_cum_ret'],axis=1) for d in test_frames]"
   ]
  },
  {
   "cell_type": "code",
   "execution_count": 49,
   "id": "6edd14f1",
   "metadata": {},
   "outputs": [],
   "source": [
    "training_labels = [d['rel_performance'].values for d in training_frames]"
   ]
  },
  {
   "cell_type": "code",
   "execution_count": 50,
   "id": "c4dac51e",
   "metadata": {},
   "outputs": [],
   "source": [
    "opt_training_data = [t[optim_feats] for t in training_data]\n",
    "opt_test_data = [v[optim_feats] for v in test_data]"
   ]
  },
  {
   "cell_type": "code",
   "execution_count": 51,
   "id": "834cde15",
   "metadata": {},
   "outputs": [],
   "source": [
    "P_L = []\n",
    "x = [1]\n",
    "ret = []\n",
    "\n",
    "for i in range(len(training_labels)):\n",
    "        bg_clf.fit(opt_training_data[i],training_labels[i])\n",
    "        pred_i = bg_clf.predict(opt_test_data[i])\n",
    "        profit_i = (pred_i * test_frames[i]['next_period_return']).sum()\n",
    "        P_L.append(profit_i)\n",
    "        num_positions = len(pred_i)\n",
    "        ret.append((1.0/num_positions) * profit_i)\n",
    "        x.append(x[i] + (x[i]/num_positions) * profit_i)"
   ]
  },
  {
   "cell_type": "code",
   "execution_count": 52,
   "id": "af0d5f05",
   "metadata": {},
   "outputs": [
    {
     "data": {
      "image/png": "[encoded data removed]",
      "text/plain": [
       "<Figure size 432x288 with 1 Axes>"
      ]
     },
     "metadata": {
      "needs_background": "light"
     },
     "output_type": "display_data"
    }
   ],
   "source": [
    "plt.plot(x);"
   ]
  },
  {
   "cell_type": "markdown",
   "id": "49a02519",
   "metadata": {},
   "source": [
    "5. Compute Sharpe Ratio, Information Ratio and alpha for the strategy and for the buy-and-hold strategy for SPY"
   ]
  },
  {
   "cell_type": "code",
   "execution_count": 53,
   "id": "9d2bd278",
   "metadata": {},
   "outputs": [],
   "source": [
    "SPY = pd.read_pickle('/Users/hongyuli/Documents/UChi/Winter_2022/FINM33160 ML/Lecture2, 2022/SPY_cum_ret.pkl')\n",
    "SPY = SPY.loc['2003-01-01':]\n",
    "SPY = SPY.resample('Q').ffill()\n",
    "SPY['spy_cum_ret'] = (SPY['spy_cum_ret'] - SPY['spy_cum_ret'][0] + 1)\n",
    "SPY['strategy'] = x"
   ]
  },
  {
   "cell_type": "code",
   "execution_count": 54,
   "id": "8cb36ff0",
   "metadata": {},
   "outputs": [
    {
     "data": {
      "text/plain": [
       "<AxesSubplot:xlabel='date'>"
      ]
     },
     "execution_count": 54,
     "metadata": {},
     "output_type": "execute_result"
    },
    {
     "data": {
      "image/png": "[encoded data removed]",
      "text/plain": [
       "<Figure size 432x288 with 1 Axes>"
      ]
     },
     "metadata": {
      "needs_background": "light"
     },
     "output_type": "display_data"
    }
   ],
   "source": [
    "SPY.plot()"
   ]
  },
  {
   "cell_type": "code",
   "execution_count": 55,
   "id": "c1e70e40",
   "metadata": {},
   "outputs": [],
   "source": [
    "SPY = SPY.resample('Y').ffill()"
   ]
  },
  {
   "cell_type": "code",
   "execution_count": 56,
   "id": "66a27386",
   "metadata": {},
   "outputs": [
    {
     "data": {
      "text/plain": [
       "<AxesSubplot:xlabel='date'>"
      ]
     },
     "execution_count": 56,
     "metadata": {},
     "output_type": "execute_result"
    },
    {
     "data": {
      "image/png": "[encoded data removed]",
      "text/plain": [
       "<Figure size 432x288 with 1 Axes>"
      ]
     },
     "metadata": {
      "needs_background": "light"
     },
     "output_type": "display_data"
    }
   ],
   "source": [
    "SPY.plot()"
   ]
  },
  {
   "cell_type": "code",
   "execution_count": 57,
   "id": "a858d00b",
   "metadata": {},
   "outputs": [
    {
     "name": "stdout",
     "output_type": "stream",
     "text": [
      "Strategy Sharpe Ratio:  0.7474886717029272\n"
     ]
    }
   ],
   "source": [
    "strategy_mean_ret = (SPY['strategy'] - 1).diff().mean()\n",
    "strategy_std = (SPY['strategy'] - 1).diff().std()\n",
    "strategy_sr = strategy_mean_ret/strategy_std\n",
    "print('Strategy Sharpe Ratio: ',strategy_sr)"
   ]
  },
  {
   "cell_type": "code",
   "execution_count": 58,
   "id": "5d62a514",
   "metadata": {},
   "outputs": [
    {
     "name": "stdout",
     "output_type": "stream",
     "text": [
      "SPY Sharpe Ratio:  0.5846194645603066\n"
     ]
    }
   ],
   "source": [
    "(SPY['spy_cum_ret'] - 1).diff().mean()\n",
    "(SPY['spy_cum_ret'] - 1).diff().std()\n",
    "print('SPY Sharpe Ratio: ',(SPY['spy_cum_ret'] - 1).diff().mean()/(SPY['spy_cum_ret'] - 1).diff().std())"
   ]
  },
  {
   "cell_type": "code",
   "execution_count": 59,
   "id": "f0f6fc98",
   "metadata": {},
   "outputs": [
    {
     "data": {
      "text/plain": [
       "25.761615954318636"
      ]
     },
     "execution_count": 59,
     "metadata": {},
     "output_type": "execute_result"
    }
   ],
   "source": [
    "x[-1]"
   ]
  },
  {
   "cell_type": "code",
   "execution_count": 60,
   "id": "d412be88",
   "metadata": {},
   "outputs": [
    {
     "data": {
      "text/plain": [
       "2.652199999999999"
      ]
     },
     "execution_count": 60,
     "metadata": {},
     "output_type": "execute_result"
    }
   ],
   "source": [
    "SPY['spy_cum_ret'][-1]"
   ]
  },
  {
   "cell_type": "code",
   "execution_count": 61,
   "id": "2c6cc61d",
   "metadata": {},
   "outputs": [
    {
     "data": {
      "text/plain": [
       "9.3082215545488"
      ]
     },
     "execution_count": 61,
     "metadata": {},
     "output_type": "execute_result"
    }
   ],
   "source": [
    "strategy_ret = (SPY['strategy'] - 1).diff().values[1:]\n",
    "spy_ret = (SPY['spy_cum_ret'] - 1).diff().values[1:]\n",
    "\n",
    "beta = (np.cov(spy_ret,strategy_ret)/np.var(spy_ret))[1,0]\n",
    "beta"
   ]
  },
  {
   "cell_type": "code",
   "execution_count": 62,
   "id": "153e7a68",
   "metadata": {},
   "outputs": [
    {
     "data": {
      "text/plain": [
       "1.0714285714285712"
      ]
     },
     "execution_count": 62,
     "metadata": {},
     "output_type": "execute_result"
    }
   ],
   "source": [
    "beta_spy = (np.cov(spy_ret,spy_ret)/np.var(spy_ret))[1,0]\n",
    "beta_spy"
   ]
  },
  {
   "cell_type": "code",
   "execution_count": 63,
   "id": "a235cb07",
   "metadata": {},
   "outputs": [
    {
     "name": "stdout",
     "output_type": "stream",
     "text": [
      "Strategy Info Ratio: 0.46478963567183257\n"
     ]
    }
   ],
   "source": [
    "residual_ret = strategy_ret - beta * spy_ret\n",
    "IR = np.mean(residual_ret)/np.std(residual_ret)\n",
    "print('Strategy Info Ratio:',IR)"
   ]
  },
  {
   "cell_type": "code",
   "execution_count": 64,
   "id": "f9c007fa",
   "metadata": {},
   "outputs": [
    {
     "name": "stdout",
     "output_type": "stream",
     "text": [
      "SPY Info Ratio: 0.46478963567183257\n"
     ]
    }
   ],
   "source": [
    "residual_ret_spy = spy_ret - beta_spy * spy_ret\n",
    "IR_spy = np.mean(residual_ret_spy)/np.std(residual_ret_spy)\n",
    "print('SPY Info Ratio:',IR)"
   ]
  },
  {
   "cell_type": "code",
   "execution_count": 65,
   "id": "5acea15e",
   "metadata": {},
   "outputs": [
    {
     "name": "stdout",
     "output_type": "stream",
     "text": [
      "Strategy alpha: 0.7203857006138108\n"
     ]
    }
   ],
   "source": [
    "alpha = np.mean(residual_ret)\n",
    "print('Strategy alpha:',alpha)"
   ]
  },
  {
   "cell_type": "code",
   "execution_count": 66,
   "id": "4fae2e0a",
   "metadata": {},
   "outputs": [
    {
     "name": "stdout",
     "output_type": "stream",
     "text": [
      "SPY alpha: -0.006477147619047591\n"
     ]
    }
   ],
   "source": [
    "alpha_spy = np.mean(residual_ret_spy)\n",
    "print('SPY alpha:',alpha_spy)"
   ]
  },
  {
   "cell_type": "markdown",
   "id": "ca13993b",
   "metadata": {},
   "source": [
    "6. Change hyper parameters for the BaggingClassifier and the DecisionTree and try at least 3 combinations of max_depth and n_estimators. Find optimal features and backtest with each of the combinations of hyperparameters."
   ]
  }
 ],
 "metadata": {
  "kernelspec": {
   "display_name": "Python 3",
   "language": "python",
   "name": "python3"
  },
  "language_info": {
   "codemirror_mode": {
    "name": "ipython",
    "version": 3
   },
   "file_extension": ".py",
   "mimetype": "text/x-python",
   "name": "python",
   "nbconvert_exporter": "python",
   "pygments_lexer": "ipython3",
   "version": "3.8.8"
  }
 },
 "nbformat": 4,
 "nbformat_minor": 5
}
